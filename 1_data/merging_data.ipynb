{
 "cells": [
  {
   "cell_type": "code",
   "execution_count": null,
   "id": "7e93189c",
   "metadata": {},
   "outputs": [],
   "source": [
    "### Merge US Data\n",
    "import pandas as pd\n",
    "\n",
    "# Load datasets\n",
    "us_gdp_df = pd.read_csv(\"quarterly_rgdp_United_States.csv\", parse_dates=[\"DATE\"]) # From FRED API\n",
    "us_macro_df = pd.read_csv(\"us_monthly_macro_data.csv\", parse_dates=[\"DATE\"])      # From FRED API\n",
    "sp500_df = pd.read_csv(\"sp500_monthly_avg.csv\", parse_dates=[\"Date\"])             # From Yahoo Finance API\n",
    "\n",
    "# Rename columns for consistency\n",
    "sp500_df = sp500_df.rename(columns={\"Date\": \"DATE\", \"S&P500_MonthlyAvg\": \"S&P500\"})\n",
    "sp500_df[\"DATE\"] = sp500_df[\"DATE\"].dt.to_period(\"M\").dt.to_timestamp()\n",
    "\n",
    "# Convert GDP DATE to month start (quarter start)\n",
    "us_gdp_df[\"DATE\"] = us_gdp_df[\"DATE\"].dt.to_period(\"M\").dt.to_timestamp()\n",
    "us_monthly_merged = pd.merge(macro_df, sp500_df, on=\"DATE\", how=\"outer\")\n",
    "\n",
    "# Merge with quarterly GDP data (Real GDP will appear only at quarter start months)\n",
    "us_full_merged = pd.merge(us_monthly_merged, us_gdp_df, on=\"DATE\", how=\"left\")\n",
    "us_full_merged = us_full_merged.sort_values(\"DATE\").reset_index(drop=True)\n",
    "\n",
    "# Save the merged DataFrame to CSV\n",
    "us_full_merged.to_csv(\"master_US.csv\", index=False)"
   ]
  },
  {
   "cell_type": "code",
   "execution_count": null,
   "id": "f0301b64",
   "metadata": {},
   "outputs": [
    {
     "name": "stderr",
     "output_type": "stream",
     "text": [
      "/var/folders/1b/b3lsjhy10fsd753tw_292d5w0000gn/T/ipykernel_88500/1592425857.py:8: UserWarning: Could not infer format, so each element will be parsed individually, falling back to `dateutil`. To ensure parsing is consistent and as-expected, please specify a format.\n",
      "  uk_m1_emp_df = pd.read_csv(\"uk_m1_emp.csv\", parse_dates=[\"DATE\"])                   # From BOE and ONS\n"
     ]
    }
   ],
   "source": [
    "### Merge UK Data\n",
    "import pandas as pd\n",
    "\n",
    "# Load datasets\n",
    "uk_gdp_df = pd.read_csv(\"quarterly_rgdp_United_Kingdom.csv\", parse_dates=[\"DATE\"])  # From FRED API\n",
    "uk_macro_df = pd.read_csv(\"uk_monthly_macro_data.csv\", parse_dates=[\"DATE\"])        # From FRED API\n",
    "ftse100_df = pd.read_csv(\"ftse100_monthly_avg.csv\", parse_dates=[\"Date\"])           # From Yahoo Finance API\n",
    "uk_m1_emp_df = pd.read_csv(\"uk_m1_emp.csv\", parse_dates=[\"DATE\"])                   # From BOE and ONS\n",
    "# https://wwwtest.bankofengland.co.uk/boeapps/database\n",
    "# https://www.ons.gov.uk/\n",
    "\n",
    "# Rename columns for consistency\n",
    "ftse100_df = ftse100_df.rename(columns={\"Date\": \"DATE\"})\n",
    "ftse100_df[\"DATE\"] = ftse100_df[\"DATE\"].dt.to_period(\"M\").dt.to_timestamp()\n",
    "\n",
    "# Convert GDP DATE to month start (i.e., beginning of the quarter)\n",
    "uk_gdp_df[\"DATE\"] = uk_gdp_df[\"DATE\"].dt.to_period(\"M\").dt.to_timestamp()\n",
    "\n",
    "# First merge: Combine monthly macro data and FTSE100 index\n",
    "uk_monthly_merged = pd.merge(uk_macro_df, ftse100_df, on=\"DATE\", how=\"outer\")\n",
    "\n",
    "# Second merge: Add quarterly GDP data (real GDP only appears at the beginning of each quarter)\n",
    "merged_with_gdp = pd.merge(uk_monthly_merged, uk_gdp_df, on=\"DATE\", how=\"left\")\n",
    "\n",
    "# Third merge: Add employment-related indicators\n",
    "uk_full_merged = pd.merge(merged_with_gdp, uk_m1_emp_df, on=\"DATE\", how=\"left\")\n",
    "\n",
    "# Sort by date and reset index\n",
    "uk_full_merged = uk_full_merged.sort_values(\"DATE\").reset_index(drop=True)\n",
    "\n",
    "# Save the merged DataFrame to a CSV file\n",
    "uk_full_merged.to_csv(\"master_UK.csv\", index=False)\n",
    "\n"
   ]
  },
  {
   "cell_type": "code",
   "execution_count": null,
   "id": "b60366d4",
   "metadata": {},
   "outputs": [
    {
     "name": "stderr",
     "output_type": "stream",
     "text": [
      "/var/folders/1b/b3lsjhy10fsd753tw_292d5w0000gn/T/ipykernel_42144/2821750342.py:8: UserWarning: Could not infer format, so each element will be parsed individually, falling back to `dateutil`. To ensure parsing is consistent and as-expected, please specify a format.\n",
      "  de_pc_df = pd.read_csv(\"de_price_compet.csv\", parse_dates=[\"DATE\"])                 # From Deutsche Bundesbank (https://www.bundesbank.de/en)\n"
     ]
    }
   ],
   "source": [
    "### Merge Germany Data\n",
    "import pandas as pd\n",
    "\n",
    "# Load datasets\n",
    "de_gdp_df = pd.read_csv(\"quarterly_rgdp_Germany.csv\", parse_dates=[\"DATE\"])         # From FRED API\n",
    "de_macro_df = pd.read_csv(\"germany_monthly_macro_data.csv\", parse_dates=[\"DATE\"])        # From FRED API\n",
    "dax_df = pd.read_csv(\"dax_monthly_avg.csv\", parse_dates=[\"Date\"])                   # From Yahoo Finance API\n",
    "de_pc_df = pd.read_csv(\"de_price_compet.csv\", parse_dates=[\"DATE\"])                 # From Deutsche Bundesbank (https://www.bundesbank.de/en)\n",
    "\n",
    "# Rename columns for consistency\n",
    "dax_df = dax_df.rename(columns={\"Date\": \"DATE\"})\n",
    "dax_df[\"DATE\"] = dax_df[\"DATE\"].dt.to_period(\"M\").dt.to_timestamp()\n",
    "\n",
    "# Convert GDP DATE to month start (i.e., beginning of the quarter)\n",
    "de_gdp_df[\"DATE\"] = de_gdp_df[\"DATE\"].dt.to_period(\"M\").dt.to_timestamp()\n",
    "\n",
    "# First merge\n",
    "de_monthly_merged = pd.merge(de_macro_df, dax_df, on=\"DATE\", how=\"outer\")\n",
    "\n",
    "# Second merge\n",
    "merged_with_gdp = pd.merge(de_monthly_merged, de_gdp_df, on=\"DATE\", how=\"left\")\n",
    "\n",
    "# Third merge\n",
    "de_full_merged = pd.merge(merged_with_gdp, de_pc_df, on=\"DATE\", how=\"left\")\n",
    "\n",
    "# Sort by date and reset index\n",
    "de_full_merged = de_full_merged.sort_values(\"DATE\").reset_index(drop=True)\n",
    "\n",
    "# Save the merged DataFrame to a CSV file\n",
    "de_full_merged.to_csv(\"master_Germany.csv\", index=False)"
   ]
  },
  {
   "cell_type": "code",
   "execution_count": 4,
   "id": "fde7948c",
   "metadata": {},
   "outputs": [
    {
     "name": "stderr",
     "output_type": "stream",
     "text": [
      "/var/folders/1b/b3lsjhy10fsd753tw_292d5w0000gn/T/ipykernel_84124/308172969.py:7: UserWarning: Could not infer format, so each element will be parsed individually, falling back to `dateutil`. To ensure parsing is consistent and as-expected, please specify a format.\n",
      "  shc_df = pd.read_csv(\"Shanghai_Composite.csv\", parse_dates=[\"Date\"])                 # From https://www.investing.com/indices/shanghai-composite-historical-data\n"
     ]
    }
   ],
   "source": [
    "### Merge China Data\n",
    "import pandas as pd\n",
    "\n",
    "# Load datasets\n",
    "cn_gdp_df = pd.read_csv(\"quarterly_rgdp_China.csv\", parse_dates=[\"DATE\"])            # From FRED API\n",
    "cn_macro_df = pd.read_csv(\"china_monthly_macro_data.csv\", parse_dates=[\"DATE\"])      # From FRED API\n",
    "shc_df = pd.read_csv(\"Shanghai_Composite.csv\", parse_dates=[\"Date\"])                 # From https://www.investing.com/indices/shanghai-composite-historical-data\n",
    "\n",
    "# Rename columns for consistency\n",
    "shc_df = shc_df.rename(columns={\"Date\": \"DATE\", \"ssec\": \"SSEC\"})\n",
    "shc_df[\"DATE\"] = shc_df[\"DATE\"].dt.to_period(\"M\").dt.to_timestamp()\n",
    "\n",
    "# Convert GDP DATE to month start (quarter start)\n",
    "cn_gdp_df[\"DATE\"] = cn_gdp_df[\"DATE\"].dt.to_period(\"M\").dt.to_timestamp()\n",
    "cn_monthly_merged = pd.merge(cn_macro_df, shc_df, on=\"DATE\", how=\"outer\")\n",
    "\n",
    "# Merge with quarterly GDP data (Real GDP will appear only at quarter start months)\n",
    "cn_full_merged = pd.merge(cn_monthly_merged, cn_gdp_df, on=\"DATE\", how=\"left\")\n",
    "cn_full_merged = cn_full_merged.sort_values(\"DATE\").reset_index(drop=True)\n",
    "\n",
    "# Filter from 1994-01 onward\n",
    "cn_full_merged = cn_full_merged[cn_full_merged[\"DATE\"] >= \"1994-01-01\"]\n",
    "\n",
    "# Save the filtered DataFrame to CSV\n",
    "cn_full_merged.to_csv(\"master_China.csv\", index=False)"
   ]
  },
  {
   "cell_type": "code",
   "execution_count": 6,
   "id": "773fc342",
   "metadata": {},
   "outputs": [
    {
     "name": "stderr",
     "output_type": "stream",
     "text": [
      "/var/folders/1b/b3lsjhy10fsd753tw_292d5w0000gn/T/ipykernel_84124/1147996690.py:7: UserWarning: Could not infer format, so each element will be parsed individually, falling back to `dateutil`. To ensure parsing is consistent and as-expected, please specify a format.\n",
      "  shc_df = pd.read_csv(\"Shanghai_Composite.csv\", parse_dates=[\"Date\"])                 # From https://www.investing.com/indices/shanghai-composite-historical-data\n"
     ]
    }
   ],
   "source": [
    "### Merge China Data for CLI\n",
    "import pandas as pd\n",
    "\n",
    "# Load datasets\n",
    "cn_cli_df = pd.read_csv(\"china_quarterly_cli_data.csv\", parse_dates=[\"DATE\"])        # From FRED API\n",
    "cn_macro_df = pd.read_csv(\"china_monthly_macro_data.csv\", parse_dates=[\"DATE\"])      # From FRED API\n",
    "shc_df = pd.read_csv(\"Shanghai_Composite.csv\", parse_dates=[\"Date\"])                 # From https://www.investing.com/indices/shanghai-composite-historical-data\n",
    "\n",
    "# Rename columns for consistency\n",
    "shc_df = shc_df.rename(columns={\"Date\": \"DATE\", \"ssec\": \"SSEC\"})\n",
    "shc_df[\"DATE\"] = shc_df[\"DATE\"].dt.to_period(\"M\").dt.to_timestamp()\n",
    "\n",
    "# Convert GDP DATE to month start (quarter start)\n",
    "cn_cli_df[\"DATE\"] = cn_cli_df[\"DATE\"].dt.to_period(\"M\").dt.to_timestamp()\n",
    "cn_monthly_merged = pd.merge(cn_macro_df, shc_df, on=\"DATE\", how=\"outer\")\n",
    "\n",
    "# Merge with quarterly GDP data (Real GDP will appear only at quarter start months)\n",
    "cn_full_merged = pd.merge(cn_monthly_merged, cn_cli_df, on=\"DATE\", how=\"left\")\n",
    "cn_full_merged = cn_full_merged.sort_values(\"DATE\").reset_index(drop=True)\n",
    "\n",
    "# Filter from 1994-01 onward\n",
    "cn_full_merged = cn_full_merged[cn_full_merged[\"DATE\"] >= \"1994-01-01\"]\n",
    "\n",
    "# Save the filtered DataFrame to CSV\n",
    "cn_full_merged.to_csv(\"master_China_cli.csv\", index=False)"
   ]
  }
 ],
 "metadata": {
  "kernelspec": {
   "display_name": "Python 3",
   "language": "python",
   "name": "python3"
  },
  "language_info": {
   "codemirror_mode": {
    "name": "ipython",
    "version": 3
   },
   "file_extension": ".py",
   "mimetype": "text/x-python",
   "name": "python",
   "nbconvert_exporter": "python",
   "pygments_lexer": "ipython3",
   "version": "3.9.6"
  }
 },
 "nbformat": 4,
 "nbformat_minor": 5
}
