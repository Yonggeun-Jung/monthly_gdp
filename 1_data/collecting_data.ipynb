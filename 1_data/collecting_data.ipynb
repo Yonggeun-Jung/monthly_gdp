{
 "cells": [
  {
   "cell_type": "code",
   "execution_count": null,
   "id": "cd58a639",
   "metadata": {},
   "outputs": [],
   "source": [
    "### Collect GDP data from the FRED API ###\n",
    "\n",
    "# Install the required package if not already installed\n",
    "#pip install fredapi\n",
    "#pip install pandas pandas_datareader\n",
    "\n",
    "\"\"\"\n",
    "To use FRED API, you need to register for an API key at: https://fred.stlouisfed.org/\n",
    "API documentation can be found at: https://fred.stlouisfed.org/docs/api/fred/\n",
    "\"\"\"\n",
    "\n",
    "# Import necessary libraries\n",
    "import os\n",
    "import pandas_datareader.data as web\n",
    "import pandas as pd\n",
    "from datetime import datetime\n",
    "import yfinance as yf\n",
    "\n",
    "# FRED API: Yon need to register for an API key at https://fred.stlouisfed.org/\n",
    "os.environ[\"FRED_API_KEY\"] = \"ADD ON YOUR FRED API KEY HERE\" "
   ]
  },
  {
   "cell_type": "code",
   "execution_count": null,
   "id": "b6e0201f",
   "metadata": {},
   "outputs": [
    {
     "name": "stdout",
     "output_type": "stream",
     "text": [
      "United States: 132 rows saved.\n",
      "United Kingdom: 136 rows saved.\n",
      "Germany: 136 rows saved.\n",
      "South Korea: 136 rows saved.\n",
      "China: 127 rows saved.\n",
      "Brazil: 116 rows saved.\n",
      "India: 110 rows saved.\n"
     ]
    }
   ],
   "source": [
    "# Define the real GDP series IDs and their start dates for each country\n",
    "# Note: The series IDs are based on the FRED database and may change over time.\n",
    "gdp_series = {\n",
    "    'United States': ('GDPC1', datetime(1992, 1, 1)),           # https://fred.stlouisfed.org/series/GDPC1 (Billions of Chained 2017 Dollars, Seasonally Adjusted Annual Rate)\n",
    "    'United Kingdom': ('NGDPRSAXDCGBQ', datetime(1991, 1, 1)),  # https://fred.stlouisfed.org/series/NGDPRSAXDCGBQ (Millions of Domestic Currency, Seasonally Adjusted)\n",
    "    'Germany': ('CLVMNACSCAB1GQDE', datetime(1991, 1, 1)),      # https://fred.stlouisfed.org/series/CLVMNACSCAB1GQDE (Millions of Chained 2010 Euros, Seasonally Adjusted)\n",
    "    #'South Korea': ('NGDPRSAXDCKRQ', datetime(1991, 1, 1)),    # https://fred.stlouisfed.org/series/NGDPRSAXDCKRQ (Millions of Domestic Currency, Seasonally Adjusted)\n",
    "    'China': ('CHNGDPNQDSMEI', datetime(1992, 1, 1)),           # https://fred.stlouisfed.org/series/CHNGDPNQDSMEI (Yuan Renminbi, Seasonally Adjusted)\n",
    "    #'Brazil': ('NGDPRSAXDCBRQ', datetime(1996, 1, 1)),         # https://fred.stlouisfed.org/series/NGDPRSAXDCBRQ (Millions of Domestic Currency, Seasonally Adjusted)\n",
    "    #'India': ('NAEXKP01INQ652S', datetime(1994, 4, 1)),        # https://fred.stlouisfed.org/series/RGDPNAINA666NRUG (Indian Rupee, Seasonally Adjusted)\n",
    "}\n",
    "\n",
    "end_date = datetime(2024, 12, 31)\n",
    "\n",
    "# Fetch and save GDP data for each country\n",
    "for country, (series_id, start_date) in gdp_series.items():\n",
    "    try:\n",
    "        data = web.DataReader(series_id, 'fred', start_date, end_date)\n",
    "        data = data.rename(columns={series_id: 'Real GDP'})\n",
    "        data.to_csv(f\"quarterly_rgdp_{country.replace(' ', '_')}.csv\")\n",
    "        print(f\"{country}: {len(data)} rows saved.\")\n",
    "    except Exception as e:\n",
    "        print(f\"Error loading {country}: {e}\")"
   ]
  },
  {
   "cell_type": "code",
   "execution_count": null,
   "id": "92e17902",
   "metadata": {},
   "outputs": [
    {
     "name": "stdout",
     "output_type": "stream",
     "text": [
      "working_hour_manuf loaded.\n",
      "CPI loaded.\n",
      "Ids_Prd loaded.\n",
      "R_Csump loaded.\n",
      "Ef_Fed_Rate loaded.\n",
      "Intr_10Y loaded.\n",
      "Unemp loaded.\n",
      "M2 loaded.\n",
      "M1 loaded.\n",
      "Labor_partic loaded.\n",
      "Per_savings loaded.\n",
      "All_Emp loaded.\n",
      "Moody_aaa loaded.\n",
      "NetExports loaded.\n"
     ]
    }
   ],
   "source": [
    "## Collect US macroeconomic data from FRED API\n",
    "\"\"\"\n",
    "Note that S&P 500 Index or Wilshire 5000 Total Market Index are not available in FRED now.\n",
    "Instead, we collect S&P 500 index from Yahoo Finance in below cell.\n",
    "\"\"\"\n",
    "us_monthly_series = {\n",
    "    'working_hour_manuf': 'AWHMAN',        # Avg_Weekly_Hours_Manufacturing\n",
    "    'CPI': 'CPIAUCSL',                     # CPI_All_Items\n",
    "    'Ids_Prd': 'INDPRO',                   # Industrial_Production\n",
    "    'R_Csump': 'DPCERA3M086SBEA',          # Real_Personal_Consumption_Expenditures\n",
    "    'Ef_Fed_Rate': 'FEDFUNDS',             # Effective_Fed_Funds_Rate'\n",
    "    'Intr_10Y': 'GS10',                    # Interest_Rate_10Y\n",
    "    'Unemp': 'UNRATE',                     # Unemployment_Rate\n",
    "    'M2': 'M2SL',                          # M2_Money_Stock\n",
    "    'M1': 'M1SL',                          # M1_Money_Stock\n",
    "    'Labor_partic': 'CIVPART',             # Civilian_Labor_Force_Participation_Rate\n",
    "    'Per_savings': 'PSAVERT',              # Personal_Savings_Rate\n",
    "    'All_Emp': 'PAYEMS',                   # All_Employees_Total_Nonfarm\n",
    "    'Moody_aaa': 'AAA',                    # Moody's_Aaa_Corporate_Bond_Yield_Spread\n",
    "    'NetExports': 'BOPTEXP',               # Net_Exports_of_Goods_and_Services\n",
    "}\n",
    "\n",
    "start_date = datetime(1992, 1, 1)\n",
    "end_date = datetime(2024, 12, 31)\n",
    "\n",
    "monthly_data = pd.DataFrame()\n",
    "\n",
    "for name, series_id in us_monthly_series.items():\n",
    "    try:\n",
    "        series = web.DataReader(series_id, 'fred', start_date, end_date)\n",
    "        series = series.rename(columns={series_id: name})\n",
    "        if monthly_data.empty:\n",
    "            monthly_data = series\n",
    "        else:\n",
    "            monthly_data = monthly_data.join(series, how='outer')\n",
    "        print(f\"{name} loaded.\")\n",
    "    except Exception as e:\n",
    "        print(f\"Error loading {name} ({series_id}): {e}\")\n",
    "\n",
    "monthly_data = monthly_data.sort_index()\n",
    "monthly_data.to_csv(\"us_monthly_macro_data.csv\")"
   ]
  },
  {
   "cell_type": "code",
   "execution_count": null,
   "id": "a8115bbf",
   "metadata": {},
   "outputs": [
    {
     "name": "stderr",
     "output_type": "stream",
     "text": [
      "/var/folders/1b/b3lsjhy10fsd753tw_292d5w0000gn/T/ipykernel_71070/3404505325.py:18: FutureWarning: 'M' is deprecated and will be removed in a future version, please use 'ME' instead.\n",
      "  monthly_data = data['Close'].resample('M').mean()\n"
     ]
    }
   ],
   "source": [
    "# Collect S&P 500 Index data from Yahoo Finance\n",
    "# S&P500 100 for UK\n",
    "# Ticker for S&P 500\n",
    "ticker = \"^GSPC\"\n",
    "\n",
    "start_date = \"1992-01-01\"\n",
    "end_date = \"2024-12-31\"\n",
    "\n",
    "# Download S&P 500 data (daily frequency)\n",
    "data = yf.download(ticker, start=start_date, end=end_date, interval=\"1d\", progress=False)\n",
    "\n",
    "# Calculate monthly average of the 'Close' price\n",
    "monthly_data = data['Close'].resample('M').mean()\n",
    "monthly_data.name = \"S&P500_MonthlyAvg\"\n",
    "\n",
    "monthly_data.to_csv(\"sp500_monthly_avg.csv\")\n"
   ]
  },
  {
   "cell_type": "code",
   "execution_count": null,
   "id": "bbe5bd21",
   "metadata": {},
   "outputs": [
    {
     "name": "stdout",
     "output_type": "stream",
     "text": [
      "Share_Prices loaded.\n",
      "CPI loaded.\n",
      "Prod_Vol loaded.\n",
      "Intr_Rate loaded.\n",
      "Intr_10Y loaded.\n",
      "Total Reserves loaded.\n",
      "Uncertainty loaded.\n",
      "Exchange loaded.\n",
      "Exports loaded.\n",
      "Imports loaded.\n"
     ]
    }
   ],
   "source": [
    "## Collect UK macroeconomic data from FRED API\n",
    "uk_monthly_series = {\n",
    "    'Share_Prices': 'SPASTT01GBM661N',       # Financial Market: Share Prices for United Kingdom\n",
    "    'CPI': 'GBRCPIALLMINMEI',                # Consumer Price Index: Total for United Kingdom\n",
    "    'Prod_Vol': 'GBRPROINDMISMEI',           # Production Volume: Industry (Except Construction) for United Kingdom\n",
    "    'Intr_Rate': 'INTGSBGBM193N',            # Interest Rates, Government Securities, Government Bonds\n",
    "    'Intr_10Y': 'IRLTLT01GBM156N',           # 10-Year Government Bond Yields for the United Kingdom\n",
    "    'Total Reserves': 'TRESEGGBM052N',       # Total Reserves excluding Gold for the United Kingdom\n",
    "    #'Uncertainty': 'UKEPUINDXM',            # Economic Policy Uncertainty Index for United Kingdom (Available from 1997)\n",
    "    'Exchange': 'EXUSUK',                    # U.S. Dollars to U.K. Pound Sterling Spot Exchange Rate\n",
    "    'Exports': 'XTEXVA01GBM664S',            # Exports: Commodities for United Kingdom\n",
    "    'Imports': 'XTIMVA01GBM664S',            # Imports: Commodities for United Kingdom\n",
    "}\n",
    "\n",
    "start_date = datetime(1991, 1, 1)\n",
    "end_date = datetime(2024, 12, 31)\n",
    "\n",
    "monthly_data_uk = pd.DataFrame()\n",
    "\n",
    "for name, series_id in uk_monthly_series.items():\n",
    "    try:\n",
    "        series = web.DataReader(series_id, 'fred', start_date, end_date)\n",
    "        series = series.rename(columns={series_id: name})\n",
    "        \n",
    "        if monthly_data_uk.empty:\n",
    "            monthly_data_uk = series\n",
    "        else:\n",
    "            monthly_data_uk = monthly_data_uk.join(series, how='outer')\n",
    "        print(f\"{name} loaded.\")\n",
    "    except Exception as e:\n",
    "        print(f\"Error loading {name} ({series_id}): {e}\")\n",
    "\n",
    "monthly_data_uk = monthly_data_uk.sort_index()\n",
    "monthly_data_uk.to_csv(\"uk_monthly_macro_data.csv\")"
   ]
  },
  {
   "cell_type": "code",
   "execution_count": 3,
   "id": "c4cf6ab9",
   "metadata": {},
   "outputs": [
    {
     "name": "stdout",
     "output_type": "stream",
     "text": [
      "YF.download() has changed argument auto_adjust default to True\n"
     ]
    }
   ],
   "source": [
    "# Collect FTSE 100 Index data from Yahoo Finance\n",
    "# FTSE 100 for UK\n",
    "ticker = \"^FTSE\"\n",
    "\n",
    "start_date = \"1991-01-01\"\n",
    "end_date = \"2024-12-31\"\n",
    "\n",
    "data = yf.download(ticker, start=start_date, end=end_date, interval=\"1d\", progress=False)\n",
    "\n",
    "monthly_data = data['Close'].resample('MS').mean() \n",
    "monthly_data.name = \"FTSE100_MonthlyAvg\"\n",
    "\n",
    "monthly_data.to_csv(\"ftse100_monthly_avg.csv\")"
   ]
  },
  {
   "cell_type": "code",
   "execution_count": 8,
   "id": "52f97c05",
   "metadata": {},
   "outputs": [
    {
     "name": "stdout",
     "output_type": "stream",
     "text": [
      "CPI loaded.\n",
      "PPI loaded.\n",
      "Total_reserves loaded.\n",
      "Exports loaded.\n",
      "Imports loaded.\n",
      "US imports loaded.\n",
      "Exchange loaded.\n",
      "Eff. Exchange Rate loaded.\n",
      "Uncertainty loaded.\n"
     ]
    }
   ],
   "source": [
    "## Collect China macroeconomic data from FRED API\n",
    "\n",
    "china_monthly_series = {\n",
    "    'CPI': 'CPALTT01CNM657N',          # Consumer Price Index (1993.02 - 2024.03)\n",
    "    'PPI': 'WPU1261',                  # Producer Price Index by Commodity: Furniture and Household Durables: Vitreous China, Fine Earthenware, and Other Pottery Products\n",
    "    'Total_reserves': 'TRESEGCNM052N', # Total Reserves excluding Gold for China \n",
    "    'Exports': 'XTEXVA01CNM664S',      # Exports Value (Goods)\n",
    "    'Imports': 'XTIMVA01CNM664S',      # Imports Value (Goods)\n",
    "    'US imports': 'IMPCH',             # U.S. Imports of Goods by Customs Basis from China\n",
    "    'Exchange': 'EXCHUS',              # Chinese Yuan Renminbi to U.S. Dollar Spot Exchange Rate\n",
    "    'Eff. Exchange Rate': 'RBCNBIS',   # Real Broad Effective Exchange Rate for China\n",
    "    #'Intr_Rate': 'IR3TTS01CNM156N',   # Interest Rates: 3-Month or 90-Day Rates and Yields: Treasury Securities: Total for China\n",
    "    'Uncertainty': 'CHNMAINLANDEPU',   # Economic Policy Uncertainty Index: Mainland Papers for China\n",
    "}\n",
    "\n",
    "start_date = datetime(1994, 1, 1)\n",
    "end_date = datetime(2023, 9, 30)\n",
    "\n",
    "monthly_china_data = pd.DataFrame()\n",
    "\n",
    "for name, series_id in china_monthly_series.items():\n",
    "    try:\n",
    "        series = web.DataReader(series_id, 'fred', start_date, end_date)\n",
    "        series = series.rename(columns={series_id: name})\n",
    "        if monthly_china_data.empty:\n",
    "            monthly_china_data = series\n",
    "        else:\n",
    "            monthly_china_data = monthly_china_data.join(series, how='outer')\n",
    "        print(f\"{name} loaded.\")\n",
    "    except Exception as e:\n",
    "        print(f\"Error loading {name} ({series_id}): {e}\")\n",
    "\n",
    "monthly_china_data = monthly_china_data.sort_index()\n",
    "monthly_china_data.to_csv(\"china_monthly_macro_data.csv\")\n"
   ]
  },
  {
   "cell_type": "code",
   "execution_count": 10,
   "id": "1337a4c0",
   "metadata": {},
   "outputs": [
    {
     "name": "stdout",
     "output_type": "stream",
     "text": [
      "CLI loaded.\n",
      "Both monthly and quarterly CLI data saved.\n"
     ]
    },
    {
     "name": "stderr",
     "output_type": "stream",
     "text": [
      "/var/folders/1b/b3lsjhy10fsd753tw_292d5w0000gn/T/ipykernel_83986/4081194625.py:34: FutureWarning: 'Q' is deprecated and will be removed in a future version, please use 'QE' instead.\n",
      "  quarterly_avg = monthly_china_data.resample('Q').mean()\n"
     ]
    }
   ],
   "source": [
    "import pandas as pd\n",
    "from pandas_datareader import data as web\n",
    "from datetime import datetime\n",
    "\n",
    "# Define FRED series\n",
    "china_monthly_series = {\n",
    "    'CLI': 'CHNLORSGPNOSTSAM',  # Composite Leading Indicator\n",
    "}\n",
    "\n",
    "start_date = datetime(1994, 1, 1)\n",
    "end_date = datetime(2023, 9, 30)\n",
    "\n",
    "# Load monthly data\n",
    "monthly_china_data = pd.DataFrame()\n",
    "\n",
    "for name, series_id in china_monthly_series.items():\n",
    "    try:\n",
    "        series = web.DataReader(series_id, 'fred', start_date, end_date)\n",
    "        series = series.rename(columns={series_id: name})\n",
    "        if monthly_china_data.empty:\n",
    "            monthly_china_data = series\n",
    "        else:\n",
    "            monthly_china_data = monthly_china_data.join(series, how='outer')\n",
    "        print(f\"{name} loaded.\")\n",
    "    except Exception as e:\n",
    "        print(f\"Error loading {name} ({series_id}): {e}\")\n",
    "\n",
    "# Sort and save monthly data\n",
    "monthly_china_data = monthly_china_data.sort_index()\n",
    "monthly_china_data.to_csv(\"china_monthly_cli_data.csv\")\n",
    "\n",
    "# Create quarterly data =\n",
    "# Resample to quarterly average\n",
    "quarterly_avg = monthly_china_data.resample('Q').mean()\n",
    "\n",
    "# Shift index to quarter's first month\n",
    "quarterly_avg.index = quarterly_avg.index.to_period('Q').to_timestamp(how='start')\n",
    "\n",
    "# Save to CSV\n",
    "quarterly_avg.to_csv(\"china_quarterly_cli_data.csv\")\n",
    "\n",
    "print(\"Both monthly and quarterly CLI data saved.\")\n"
   ]
  },
  {
   "cell_type": "code",
   "execution_count": 2,
   "id": "91bbbd9d",
   "metadata": {},
   "outputs": [
    {
     "name": "stdout",
     "output_type": "stream",
     "text": [
      "CPI loaded.\n",
      "Unemp loaded.\n",
      "Prod_Vol loaded.\n",
      "Retail loaded.\n",
      "Exports loaded.\n",
      "Imports loaded.\n",
      "Manuf loaded.\n",
      "Total Reserves loaded.\n",
      "Eff_Ex_Rate loaded.\n",
      "Uncertainty loaded.\n"
     ]
    }
   ],
   "source": [
    "## Collect Germany macroeconomic data from FRED API\n",
    "germany_monthly_series = {\n",
    "    'CPI': 'DEUCPIALLMINMEI',           # Consumer Price Index\n",
    "    'Unemp': 'LRHUTTTTDEM156S',         # Unemployment Rate\n",
    "    'Prod_Vol': 'DEUPROINDMISMEI',      # Production, Sales, Work Started and Orders: Production Volume: Economic Activity: Industry (Except Construction) for Germany\n",
    "    'Retail': 'DEUSARTMISMEI',          # Retail Trade, Except of Motor Vehicles and Motorcycles for Germany\n",
    "    'Exports': 'XTEXVA01DEM664S',       # Exports (Goods)\n",
    "    'Imports': 'XTIMVA01DEM664S',       # Imports (Goods)\n",
    "    'Manuf': 'DEUPRMNTO01GPSAM',        # Total Manufacturing for Germany\n",
    "    'Total Reserves': 'TRESEGDEM052N',  # Total Reserves excluding Gold for Germany\n",
    "    'Eff_Ex_Rate': 'RNDEBIS',           # Real Narrow Effective Exchange Rate for Germany\n",
    "    'Uncertainty': 'EUEPUINDXM'         # Economic Policy Uncertainty Index for Europe (Germany, the United Kingdom, France, Italy, and Spain)\n",
    "    \n",
    "}\n",
    "\n",
    "start_date = datetime(1991, 1, 1)\n",
    "end_date = datetime(2024, 12, 31)\n",
    "\n",
    "monthly_germany_data = pd.DataFrame()\n",
    "\n",
    "for name, series_id in germany_monthly_series.items():\n",
    "    try:\n",
    "        series = web.DataReader(series_id, 'fred', start_date, end_date)\n",
    "        series = series.rename(columns={series_id: name})\n",
    "        if monthly_germany_data.empty:\n",
    "            monthly_germany_data = series\n",
    "        else:\n",
    "            monthly_germany_data = monthly_germany_data.join(series, how='outer')\n",
    "        print(f\"{name} loaded.\")\n",
    "    except Exception as e:\n",
    "        print(f\"Error loading {name} ({series_id}): {e}\")\n",
    "\n",
    "monthly_germany_data = monthly_germany_data.sort_index()\n",
    "monthly_germany_data.to_csv(\"germany_monthly_macro_data.csv\")\n"
   ]
  },
  {
   "cell_type": "code",
   "execution_count": null,
   "id": "73b8e041",
   "metadata": {},
   "outputs": [
    {
     "name": "stdout",
     "output_type": "stream",
     "text": [
      "YF.download() has changed argument auto_adjust default to True\n"
     ]
    }
   ],
   "source": [
    "# Collect DAX Index data from Yahoo Finance\n",
    "# DAX for Germany\n",
    "ticker = \"^GDAXI\"\n",
    "\n",
    "start_date = \"1991-01-01\"\n",
    "end_date = \"2024-12-31\"\n",
    "\n",
    "data = yf.download(ticker, start=start_date, end=end_date, interval=\"1d\", progress=False)\n",
    "\n",
    "monthly_data = data['Close'].resample('MS').mean() \n",
    "monthly_data.name = \"DAX_MonthlyAvg\"\n",
    "\n",
    "monthly_data.to_csv(\"dax_monthly_avg.csv\")"
   ]
  }
 ],
 "metadata": {
  "kernelspec": {
   "display_name": "Python 3",
   "language": "python",
   "name": "python3"
  },
  "language_info": {
   "codemirror_mode": {
    "name": "ipython",
    "version": 3
   },
   "file_extension": ".py",
   "mimetype": "text/x-python",
   "name": "python",
   "nbconvert_exporter": "python",
   "pygments_lexer": "ipython3",
   "version": "3.9.6"
  }
 },
 "nbformat": 4,
 "nbformat_minor": 5
}
